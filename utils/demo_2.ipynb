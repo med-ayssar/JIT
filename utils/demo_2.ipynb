{
 "cells": [
  {
   "cell_type": "code",
   "execution_count": 1,
   "metadata": {},
   "outputs": [],
   "source": [
    "import sys\n",
    "\n",
    "nestPath = \"/home/ayssar/Projects/nest/nest_build/replace-message-calls-withColor/install/lib/python3.8/site-packages\"\n",
    "nestmlPath = \"/home/ayssar/Projects/nest/nestml\"\n",
    "jitPath = \"/home/ayssar/Projects/nest\"\n",
    "\n",
    "paths = [nestmlPath, nestPath, jitPath]\n",
    "\n",
    "for localPath in paths:\n",
    "    sys.path.append(localPath)"
   ]
  },
  {
   "cell_type": "code",
   "execution_count": 2,
   "metadata": {},
   "outputs": [
    {
     "name": "stdout",
     "output_type": "stream",
     "text": [
      "Warning: PyGSL is not available. The stiffness test will be skipped.\n",
      "Warning: No module named 'pygsl'\n",
      "\n",
      "\n",
      "\n",
      "              -- N E S T --\n",
      "  Copyright (C) 2004 The NEST Initiative\n",
      "\n",
      " Version: replace-message-calls-withColor@fdbe4e231\n",
      " Built: Nov 15 2021 12:19:28\n",
      "\n",
      " This program is provided AS IS and comes with\n",
      " NO WARRANTY. See the file LICENSE for details.\n",
      "\n",
      " Problems or suggestions?\n",
      "   Visit https://www.nest-simulator.org\n",
      "\n",
      " Type 'nest.help()' to find out more about NEST.\n",
      "\n"
     ]
    }
   ],
   "source": [
    "from jit import nest"
   ]
  },
  {
   "cell_type": "code",
   "execution_count": 3,
   "metadata": {},
   "outputs": [],
   "source": [
    "wr = nest.Create('weight_recorder')\n"
   ]
  },
  {
   "cell_type": "code",
   "execution_count": 4,
   "metadata": {},
   "outputs": [
    {
     "name": "stdout",
     "output_type": "stream",
     "text": [
      "\n",
      "Feb 25 01:13:36 Install [Info]: \n",
      "    loaded module neuron_test__with_noisy_synapsemodule\n"
     ]
    }
   ],
   "source": [
    "nest.CopyModel(\"noisy_synapse\", \"noisy_synapse_nestml_rec\",\n",
    "               {\"weight_recorder\": wr, \"w\": 3., \"the_delay\": 100, \"A_noise\": 300, \"receptor_type\": 0, \"count\": 4599})"
   ]
  },
  {
   "cell_type": "code",
   "execution_count": 5,
   "metadata": {},
   "outputs": [],
   "source": [
    "pre_neuron = nest.Create(\"parrot_neuron\")"
   ]
  },
  {
   "cell_type": "code",
   "execution_count": 6,
   "metadata": {},
   "outputs": [
    {
     "name": "stdout",
     "output_type": "stream",
     "text": [
      "\n",
      "Feb 25 01:13:37 Install [Info]: \n",
      "    loaded module neuron_testmodule\n"
     ]
    }
   ],
   "source": [
    "post_neuron = nest.Create(\"neuron_test\", params={\"tau_m\": 200.})\n"
   ]
  },
  {
   "cell_type": "code",
   "execution_count": 7,
   "metadata": {},
   "outputs": [
    {
     "name": "stdout",
     "output_type": "stream",
     "text": [
      "\n",
      "\n",
      "Models creation summary:\n",
      "+---------+-------------+---------+-------------+\n",
      "| Model   | Generated   | Build   | Installed   |\n",
      "+=========+=============+=========+=============+\n",
      "+---------+-------------+---------+-------------+\n"
     ]
    }
   ],
   "source": [
    "nest.Connect(pre_neuron, post_neuron, \"all_to_all\", syn_spec={'synapse_model': 'noisy_synapse_nestml_rec'})\n"
   ]
  },
  {
   "cell_type": "code",
   "execution_count": 8,
   "metadata": {},
   "outputs": [],
   "source": [
    "syn = nest.GetConnections(source=pre_neuron, synapse_model=\"noisy_synapse_nestml_rec\")\n"
   ]
  },
  {
   "cell_type": "code",
   "execution_count": 9,
   "metadata": {},
   "outputs": [
    {
     "name": "stdout",
     "output_type": "stream",
     "text": [
      "\n",
      "\n",
      "Models creation summary:\n",
      "+---------+-------------+---------+-------------+\n",
      "| Model   | Generated   | Build   | Installed   |\n",
      "+=========+=============+=========+=============+\n",
      "+---------+-------------+---------+-------------+\n",
      "\n",
      "Feb 25 01:13:37 NodeManager::prepare_nodes [Info]: \n",
      "    Preparing 4 nodes for simulation.\n",
      "\n",
      "Feb 25 01:13:37 SimulationManager::run [Warning]: \n",
      "    The requested simulation time is not an integer multiple of the minimal \n",
      "    delay in the network. This may result in inconsistent results under the \n",
      "    following conditions: (i) A network contains more than one source of \n",
      "    randomness, e.g., two different poisson_generators, and (ii) Simulate is \n",
      "    called repeatedly with simulation times that are not multiples of the \n",
      "    minimal delay.\n",
      "\n",
      "Feb 25 01:13:37 SimulationManager::start_updating_ [Info]: \n",
      "    Number of local nodes: 4\n",
      "    Simulation time (ms): 1\n",
      "    Number of OpenMP threads: 1\n",
      "    Not using MPI\n",
      "\n",
      "Feb 25 01:13:37 SimulationManager::run [Info]: \n",
      "    Simulation finished.\n"
     ]
    }
   ],
   "source": [
    "nest.Simulate(1)\n"
   ]
  },
  {
   "cell_type": "code",
   "execution_count": 10,
   "metadata": {},
   "outputs": [],
   "source": [
    "synDic = syn.get()\n",
    "assert synDic[\"A_noise\"] == 300, \"Copying Synapse didn't work perfectly!\"\n"
   ]
  },
  {
   "cell_type": "code",
   "execution_count": 11,
   "metadata": {},
   "outputs": [
    {
     "data": {
      "text/plain": [
       "{'gsl_error_tol': 0.001,\n",
       " 'Ca': 0.009999550014249663,\n",
       " 'vp': 0,\n",
       " 'global_id': 4,\n",
       " 'node_uses_wfr': False,\n",
       " 'w__for_noisy_synapse': 3.0,\n",
       " 'count__for_noisy_synapse': 4599,\n",
       " 'E_L': -70.0,\n",
       " 'synaptic_elements': {},\n",
       " 'r': 20,\n",
       " 'tau_syn': 2.0,\n",
       " 'tau_Ca': 10000.0,\n",
       " 'beta_Ca': 0.001,\n",
       " 'with_refr_input': False,\n",
       " 'Theta': -100.0,\n",
       " 'local': True,\n",
       " 'model': 'UnknownNode',\n",
       " 'V_reset': 0.0,\n",
       " 'thread': 0,\n",
       " 'element_type': 'neuron',\n",
       " 'V_abs': 0.0,\n",
       " 'I_e': 0.0,\n",
       " 'refr_spikes_buffer': 0.0,\n",
       " 'thread_local_id': 3,\n",
       " 'tau_m': 200.0,\n",
       " 'frozen': False,\n",
       " 'C_m': 250.0,\n",
       " 'recordables': ['V_m', 'refr_spikes_buffer', 'V_abs', 'w__for_noisy_synapse'],\n",
       " 'V_min': -2000.0,\n",
       " 't_ref': 2.0,\n",
       " 'models': ['UnknownNode']}"
      ]
     },
     "execution_count": 11,
     "metadata": {},
     "output_type": "execute_result"
    }
   ],
   "source": [
    "post_neuron.get()"
   ]
  },
  {
   "cell_type": "code",
   "execution_count": null,
   "metadata": {},
   "outputs": [],
   "source": []
  }
 ],
 "metadata": {
  "interpreter": {
   "hash": "797ca1a06b9fa5ebe79af6a358fc01c867d8eb82a4ef3bfc2d71e675655f0324"
  },
  "kernelspec": {
   "display_name": "Python 3.8.10 64-bit ('main': venv)",
   "language": "python",
   "name": "python3"
  },
  "language_info": {
   "codemirror_mode": {
    "name": "ipython",
    "version": 3
   },
   "file_extension": ".py",
   "mimetype": "text/x-python",
   "name": "python",
   "nbconvert_exporter": "python",
   "pygments_lexer": "ipython3",
   "version": "3.8.10"
  },
  "orig_nbformat": 4
 },
 "nbformat": 4,
 "nbformat_minor": 2
}
